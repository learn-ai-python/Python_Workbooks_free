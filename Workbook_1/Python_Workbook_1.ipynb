{
  "nbformat": 4,
  "nbformat_minor": 0,
  "metadata": {
    "colab": {
      "provenance": [],
      "authorship_tag": "ABX9TyOaMQZ9XrJYMbgFNCdeZm4b",
      "include_colab_link": true
    },
    "kernelspec": {
      "name": "python3",
      "display_name": "Python 3"
    },
    "language_info": {
      "name": "python"
    }
  },
  "cells": [
    {
      "cell_type": "markdown",
      "metadata": {
        "id": "view-in-github",
        "colab_type": "text"
      },
      "source": [
        "<a href=\"https://colab.research.google.com/github/learn-ai-python/Python_Workbooks_free/blob/main/Workbook_1/Python_Workbook_1.ipynb\" target=\"_parent\"><img src=\"https://colab.research.google.com/assets/colab-badge.svg\" alt=\"Open In Colab\"/></a>"
      ]
    },
    {
      "cell_type": "markdown",
      "source": [
        "# 🤖 Python Workbook №1 | Python Зошит із вправами №1\n",
        "Всім привіт! Це мій перший воркбук по Python. Тут ви можете попрактикуватися із вивченням Python.\n",
        "\n",
        "👩‍💻 **Автор:** [Learn AI Python](https://www.tiktok.com/@learn.ai.python?lang=uk-UA) \n",
        "\n",
        "🥰 **Подяки:** [W3schools](https://www.w3schools.com/)"
      ],
      "metadata": {
        "id": "FFX3lwO18G8G"
      }
    },
    {
      "cell_type": "markdown",
      "source": [
        "# 1. Вступ ✨\n",
        "Для роботи із Python будемо використовувати [**Google Colab Notebooks**](https://colab.research.google.com/github/learn-ai-python/Python_Workbooks/blob/main/Workbook_1/Python_Workbook_1.ipynb), тут вже вбудований Python та деякі бібліотеки. \n",
        "\n",
        "Для відкриття цього файлу у Google Colab Notebooks натисність на [**це посилання**](https://colab.research.google.com/github/learn-ai-python/Python_Workbooks/blob/main/Workbook_1/Python_Workbook_1.ipynb), або натисніть кнопку **\"Open in Colab\"** на самому початку файлу (якщо Ви переглядаєте даний файл через GitHub).\n",
        "\n",
        "Весь код виконується на хмарі, тому доступ до файлу можна отримати із будь-якого пристрою за наявності інтернету.\n",
        "\n",
        "Файл зберігається із розширенням *.ipynb. \n",
        "\n",
        "Код виконується у окремих комірках. Google Colab Notebooks побудований на ідеї, що використовується у [**Jupyter Notebooks**](https://jupyter.org/). \n",
        "\n",
        "До речі, за необхідності роботи із *.ipynb файлами, Jupyter Notebooks може бути встановлений додатково у Anaconda Spyder, у PyCharm тощо.\n",
        "\n"
      ],
      "metadata": {
        "id": "gR_iEmdR9G40"
      }
    },
    {
      "cell_type": "markdown",
      "source": [
        "# 2. Hello, world! 👋 \n",
        "Запустимо (Shift + Enter або кнопочка ▶ на самій комірці) наш перший код до виконання:"
      ],
      "metadata": {
        "id": "Cc7PH_by_S6F"
      }
    },
    {
      "cell_type": "code",
      "source": [
        "print(\"Hello, World!\")"
      ],
      "metadata": {
        "id": "g8hRsxrG8obd"
      },
      "execution_count": null,
      "outputs": []
    },
    {
      "cell_type": "markdown",
      "source": [
        "# 3. Створення коментарів ⌨️\n",
        "Коментарі використовуються для того, щоб запобігти виконанню якогось рядка коду та/або для того, щоб зробити код більш читабельним. Коментарі у Python починаються із символу \"#\"."
      ],
      "metadata": {
        "id": "NQVyv1sGBKpY"
      }
    },
    {
      "cell_type": "code",
      "source": [
        "# це - коментар\n",
        "print(\"Hi!\")"
      ],
      "metadata": {
        "id": "KDnTLJSF_qBO"
      },
      "execution_count": null,
      "outputs": []
    },
    {
      "cell_type": "code",
      "source": [
        "print(\"Hello!\")  # і це також коментар"
      ],
      "metadata": {
        "id": "DVXmzsCxFO-s"
      },
      "execution_count": null,
      "outputs": []
    },
    {
      "cell_type": "markdown",
      "source": [
        "А також, у Python є можливість коментувати одночасно декілька рядків. Це можна зробити за допомогою уже відомого символу \"#\" або, за допомогою потрійних лапок \"\"\" … \"\"\""
      ],
      "metadata": {
        "id": "bU4lKi4OFChz"
      }
    },
    {
      "cell_type": "code",
      "source": [
        "# Це коментар, \n",
        "# що записаний у декілька\n",
        "# рядків для зручності\n",
        "print(\"Hi, people!\")"
      ],
      "metadata": {
        "id": "h1tSoWfXFB8m"
      },
      "execution_count": null,
      "outputs": []
    },
    {
      "cell_type": "code",
      "source": [
        "\"\"\"\n",
        "Це також коментар, \n",
        "що записаний у декілька\n",
        "рядків для зручності, \n",
        "але із використанням подвійних лапок:\n",
        "три на початку і три у кінці\n",
        "\"\"\"\n",
        "print(\"Hi, people!\")"
      ],
      "metadata": {
        "id": "iw9c0wWUE_s4"
      },
      "execution_count": null,
      "outputs": []
    },
    {
      "cell_type": "code",
      "source": [
        "'''\n",
        "Це також коментар, \n",
        "що записаний у декілька\n",
        "рядків для зручності,\n",
        "але із одинарними лапками\n",
        "'''\n",
        "print(\"Hi, people!\")"
      ],
      "metadata": {
        "id": "2WEn1hlCFb1K"
      },
      "execution_count": null,
      "outputs": []
    },
    {
      "cell_type": "markdown",
      "source": [
        "# 4. Змінні Python 🐍\n",
        "Змінним не потрібно присвоювати тип даних, на відміну від C++. "
      ],
      "metadata": {
        "id": "kdS4TCu2F1HV"
      }
    },
    {
      "cell_type": "code",
      "source": [
        "x = 10\n",
        "y = \"Hello\""
      ],
      "metadata": {
        "id": "lgznzGxAFn1R"
      },
      "execution_count": null,
      "outputs": []
    },
    {
      "cell_type": "markdown",
      "source": [
        "Змінним можна переприсвоювати різні типи даних."
      ],
      "metadata": {
        "id": "FwQZucqbF-f2"
      }
    },
    {
      "cell_type": "code",
      "source": [
        "x = 25\n",
        "x = \"Meow\""
      ],
      "metadata": {
        "id": "f-9j_ugrF9FN"
      },
      "execution_count": null,
      "outputs": []
    },
    {
      "cell_type": "markdown",
      "source": [
        "Рядкові змінні можна задавати як за допомогою одинарних лапок, так і подвійних."
      ],
      "metadata": {
        "id": "eR-_j6oCGCJ-"
      }
    },
    {
      "cell_type": "code",
      "source": [
        "x = 'Cat'\n",
        "y = \"Cat\""
      ],
      "metadata": {
        "id": "5mdAw-1nGABv"
      },
      "execution_count": null,
      "outputs": []
    },
    {
      "cell_type": "markdown",
      "source": [
        "Python дозволяє задавати значення одразу декільком змінним в одному рядку."
      ],
      "metadata": {
        "id": "F_KiOEO5GGJb"
      }
    },
    {
      "cell_type": "code",
      "source": [
        "x, y = 12, 15"
      ],
      "metadata": {
        "id": "qp6xtO8wGEtr"
      },
      "execution_count": null,
      "outputs": []
    },
    {
      "cell_type": "markdown",
      "source": [
        "Вивести значення змінної можна за допомогою функції **print()**."
      ],
      "metadata": {
        "id": "Wf3EdF3WGLph"
      }
    },
    {
      "cell_type": "code",
      "source": [
        "x = 5\n",
        "print(x)"
      ],
      "metadata": {
        "id": "TW6_cvFOGLCd"
      },
      "execution_count": null,
      "outputs": []
    },
    {
      "cell_type": "markdown",
      "source": [
        "Дізнатися тип змінної можна за допомогою функції **type()**."
      ],
      "metadata": {
        "id": "QJB91RUPGSiq"
      }
    },
    {
      "cell_type": "code",
      "source": [
        "x = 5\n",
        "print(type(x))"
      ],
      "metadata": {
        "id": "xI5_C0foGR_h"
      },
      "execution_count": null,
      "outputs": []
    },
    {
      "cell_type": "markdown",
      "source": [
        "# 5.  Вправи для самостійного опрацювання ✍️"
      ],
      "metadata": {
        "id": "fkT4MFUrGcBd"
      }
    },
    {
      "cell_type": "markdown",
      "source": [
        "##### 5.1. Вивести текст на екран \"Вітаю! Це Python Workbook №1\""
      ],
      "metadata": {
        "id": "Ozeg5CfyGh5v"
      }
    },
    {
      "cell_type": "code",
      "source": [],
      "metadata": {
        "id": "BtfuKDujGHhy"
      },
      "execution_count": null,
      "outputs": []
    },
    {
      "cell_type": "markdown",
      "source": [
        "##### 5.2. Додати коментар \"сума двох чисел\" до наступного коду:"
      ],
      "metadata": {
        "id": "DppGz8CMGwcx"
      }
    },
    {
      "cell_type": "code",
      "source": [
        "\n",
        "x = 5 + 2"
      ],
      "metadata": {
        "id": "RssYIPY_G6aw"
      },
      "execution_count": null,
      "outputs": []
    },
    {
      "cell_type": "markdown",
      "source": [
        "##### 5.3. Задати змінній x значення рівне 2, а змінній y значення рівне 3. Знайти суму, різницю, добуток, частку цих двох чисел, записати результати у окремі змінні. Вивести всі змінні із результатами обчислень на екран."
      ],
      "metadata": {
        "id": "GskiGjgmHBwk"
      }
    },
    {
      "cell_type": "code",
      "source": [
        "x = \n",
        "  = 2\n"
      ],
      "metadata": {
        "id": "-UlFucbaHf6j"
      },
      "execution_count": null,
      "outputs": []
    },
    {
      "cell_type": "markdown",
      "source": [
        "# Заключення 😃\n",
        "На цьому вправи завершено! Дякую всім, хто доєднався!\n",
        "Підписуйтесь на мої сторінки у соціальних мережах:\n",
        "\n",
        "- [TikTok](https://www.tiktok.com/@learn.ai.python?lang=uk-UA)\n",
        "- [Instagram](https://www.instagram.com/learn.ai.python/)"
      ],
      "metadata": {
        "id": "DUTpmvU1Ht5s"
      }
    }
  ]
}